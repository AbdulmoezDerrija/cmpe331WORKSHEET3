{
  "nbformat": 4,
  "nbformat_minor": 0,
  "metadata": {
    "colab": {
      "provenance": [],
      "toc_visible": true,
      "authorship_tag": "ABX9TyM8n9GJm1cPrCII6VoekYOU",
      "include_colab_link": true
    },
    "kernelspec": {
      "name": "python3",
      "display_name": "Python 3"
    },
    "language_info": {
      "name": "python"
    }
  },
  "cells": [
    {
      "cell_type": "markdown",
      "metadata": {
        "id": "view-in-github",
        "colab_type": "text"
      },
      "source": [
        "<a href=\"https://colab.research.google.com/github/AbdulmoezDerrija/cmpe331WORKSHEET3/blob/main/ReadingHeadLinesUsingBeautifulSoup.ipynb\" target=\"_parent\"><img src=\"https://colab.research.google.com/assets/colab-badge.svg\" alt=\"Open In Colab\"/></a>"
      ]
    },
    {
      "cell_type": "code",
      "execution_count": 116,
      "metadata": {
        "id": "HankJALMw6jw"
      },
      "outputs": [],
      "source": [
        "import requests\n",
        "import pandas as pd\n",
        "# import the beatifulsoap library\n",
        "from bs4 import BeautifulSoup\n",
        "\n",
        "from datetime import date"
      ]
    },
    {
      "cell_type": "code",
      "source": [
        "nyTimesFDA = \"https://www.nytimes.com/section/science\"\n",
        "res = requests.get(nyTimesFDA)\n",
        "\n",
        "# convert to beautiful soup \n",
        "soup = BeautifulSoup(res.content)\n",
        "print(soup.prettify()) "
      ],
      "metadata": {
        "id": "ekHpg2ZUxir_"
      },
      "execution_count": null,
      "outputs": []
    },
    {
      "cell_type": "code",
      "source": [
        "def print_headlines(response_text):\n",
        "    soup = BeautifulSoup(response_text, 'html.parser')\n",
        "    headlines = soup.find(attrs={\"class\": \"css-1kv6qi e15t083i0\"})\n",
        "    print(headlines.text)\n",
        "    #headlines = soup.find_all(attrs={\"class\": \"css-1kv6qi e15t083i0\"})\n",
        "    #for headline in headlines:\n",
        "     #   print(headline.text)\n",
        "   \n"
      ],
      "metadata": {
        "id": "wb0RC-rQ5byn"
      },
      "execution_count": 118,
      "outputs": []
    },
    {
      "cell_type": "code",
      "source": [
        "def print_dates(response_text):\n",
        "    soup = BeautifulSoup(response_text, 'lxml')\n",
        "    headlines_date = soup.find(attrs = {\"class\": \"css-e0xall e15t083i3\"}).find(attrs = {\"data-testid\" : \"todays-date\"})\n",
        "    for headline_date in headlines_date:\n",
        "        print(headline_date.text)"
      ],
      "metadata": {
        "id": "MDD5MYsa-rmv"
      },
      "execution_count": 119,
      "outputs": []
    },
    {
      "cell_type": "code",
      "source": [
        "print_headlines(res.text)"
      ],
      "metadata": {
        "colab": {
          "base_uri": "https://localhost:8080/"
        },
        "id": "BJsAGLcx5iJ7",
        "outputId": "b78c5163-6340-48e1-e72e-d981adc472b4"
      },
      "execution_count": 120,
      "outputs": [
        {
          "output_type": "stream",
          "name": "stdout",
          "text": [
            "As Officials Ease Restrictions, China Faces New Pandemic Risks\n"
          ]
        }
      ]
    }
  ]
}